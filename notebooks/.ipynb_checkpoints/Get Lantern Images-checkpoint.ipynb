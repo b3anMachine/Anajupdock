{
 "cells": [
  {
   "cell_type": "code",
   "execution_count": 2,
   "id": "c78a6d33",
   "metadata": {},
   "outputs": [],
   "source": [
    "import requests\n",
    "from bs4 import BeautifulSoup\n",
    "import os\n",
    "\n",
    "res = requests.get('https://en.wikipedia.org/wiki/Lantern_Festival')\n",
    "soup = BeautifulSoup(res.text, 'html.parser')\n",
    "images = soup.select('img')\n",
    "\n",
    "if not os.path.exists('myImages'):\n",
    "    os.makedirs('myImages')\n",
    "    \n",
    "num = 0\n",
    "for i in images:\n",
    "    f = open('myImages/' + str(num) + '.jpg', 'wb')\n",
    "    try:\n",
    "        link = requests.get('http:'+ i['src'])\n",
    "    except requests.exceptions.InvalidURL:\n",
    "        pass\n",
    "    f.write(link.content)\n",
    "    f.close\n",
    "    num += 1"
   ]
  },
  {
   "cell_type": "code",
   "execution_count": null,
   "id": "6561a9ea",
   "metadata": {},
   "outputs": [],
   "source": []
  }
 ],
 "metadata": {
  "kernelspec": {
   "display_name": "Python 3 (ipykernel)",
   "language": "python",
   "name": "python3"
  },
  "language_info": {
   "codemirror_mode": {
    "name": "ipython",
    "version": 3
   },
   "file_extension": ".py",
   "mimetype": "text/x-python",
   "name": "python",
   "nbconvert_exporter": "python",
   "pygments_lexer": "ipython3",
   "version": "3.9.7"
  }
 },
 "nbformat": 4,
 "nbformat_minor": 5
}
